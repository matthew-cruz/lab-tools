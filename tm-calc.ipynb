{
 "cells": [
  {
   "cell_type": "markdown",
   "metadata": {},
   "source": [
    "# Quickchange Mutagenesis Primer Calculator\n",
    "\n",
    "This script calculates the celsius melting temperature of a primer given the percent GC content, number of bases, and number of mismatching bases in the primer."
   ]
  },
  {
   "cell_type": "code",
   "execution_count": 1,
   "metadata": {},
   "outputs": [],
   "source": [
    "def tm_calc(percent_gc_content,n,n_mismatch):\n",
    "    if percent_gc_content < 1:\n",
    "        print (\"Input GC content parameter not given as a percentage\")\n",
    "    percent_gc_content = float(percent_gc_content)\n",
    "    n = float(n)\n",
    "    n_mismatch = float(n_mismatch)\n",
    "    percent_mismatch = n_mismatch / n * 100\n",
    "    tm = 81.5 + (0.41*percent_gc_content) - (675.0/n) - percent_mismatch\n",
    "    return (tm)"
   ]
  }
 ],
 "metadata": {
  "kernelspec": {
   "display_name": "Python 3",
   "language": "python",
   "name": "python3"
  },
  "language_info": {
   "codemirror_mode": {
    "name": "ipython",
    "version": 3
   },
   "file_extension": ".py",
   "mimetype": "text/x-python",
   "name": "python",
   "nbconvert_exporter": "python",
   "pygments_lexer": "ipython3",
   "version": "3.6.6"
  }
 },
 "nbformat": 4,
 "nbformat_minor": 2
}
